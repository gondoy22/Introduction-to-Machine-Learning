{
 "cells": [
  {
   "cell_type": "code",
   "execution_count": 19,
   "id": "6e584d55-82e0-45e9-927a-e6968801981e",
   "metadata": {},
   "outputs": [],
   "source": [
    "import pandas as pd\n",
    "import numpy as np\n",
    "import matplotlib.pyplot as plt\n",
    "from sklearn import tree\n",
    "from sklearn.tree import DecisionTreeClassifier\n",
    "from sklearn.model_selection import train_test_split, cross_val_score"
   ]
  },
  {
   "cell_type": "code",
   "execution_count": 20,
   "id": "4ae42348-8735-4a8a-8944-bdb9c9660e05",
   "metadata": {},
   "outputs": [],
   "source": [
    "#Importing Data\n",
    "X = pd.read_csv(\"X.csv\")\n",
    "y = pd.read_csv(\"y.csv\")"
   ]
  },
  {
   "cell_type": "code",
   "execution_count": 21,
   "id": "99481929",
   "metadata": {},
   "outputs": [
    {
     "data": {
      "text/plain": [
       "Unnamed: 0    0\n",
       "0             3\n",
       "dtype: int64"
      ]
     },
     "execution_count": 21,
     "metadata": {},
     "output_type": "execute_result"
    }
   ],
   "source": [
    "y.isnull().sum()"
   ]
  },
  {
   "cell_type": "code",
   "execution_count": 22,
   "id": "2b6de38b",
   "metadata": {},
   "outputs": [
    {
     "data": {
      "text/plain": [
       "Unnamed: 0    0\n",
       "0             0\n",
       "1             0\n",
       "2             0\n",
       "3             0\n",
       "4             0\n",
       "5             0\n",
       "6             0\n",
       "7             0\n",
       "dtype: int64"
      ]
     },
     "execution_count": 22,
     "metadata": {},
     "output_type": "execute_result"
    }
   ],
   "source": [
    "X.isnull().sum()"
   ]
  },
  {
   "cell_type": "code",
   "execution_count": 23,
   "id": "9f1c1bf4-3199-4c4b-ac55-f5d0a20a3407",
   "metadata": {},
   "outputs": [],
   "source": [
    "#Data Cleaning\n",
    "y = y.iloc[:, 1]\n",
    "missing = y.isnull()\n",
    "X = X[~missing]\n",
    "y = y[~missing]"
   ]
  },
  {
   "cell_type": "code",
   "execution_count": 24,
   "id": "c0d66354",
   "metadata": {},
   "outputs": [
    {
     "data": {
      "text/plain": [
       "array([[<Axes: title={'center': '0'}>, <Axes: title={'center': '1'}>,\n",
       "        <Axes: title={'center': '2'}>],\n",
       "       [<Axes: title={'center': '3'}>, <Axes: title={'center': '4'}>,\n",
       "        <Axes: title={'center': '5'}>],\n",
       "       [<Axes: title={'center': '6'}>, <Axes: title={'center': '7'}>,\n",
       "        <Axes: >]], dtype=object)"
      ]
     },
     "execution_count": 24,
     "metadata": {},
     "output_type": "execute_result"
    },
    {
     "data": {
      "image/png": "[encoded data removed]",
      "text/plain": [
       "<Figure size 640x480 with 9 Axes>"
      ]
     },
     "metadata": {},
     "output_type": "display_data"
    }
   ],
   "source": [
    "X_hist = X.drop(columns = 'Unnamed: 0')\n",
    "X_hist.hist(bins = 20)"
   ]
  },
  {
   "cell_type": "code",
   "execution_count": 25,
   "id": "bd694250",
   "metadata": {},
   "outputs": [
    {
     "data": {
      "text/plain": [
       "<Axes: >"
      ]
     },
     "execution_count": 25,
     "metadata": {},
     "output_type": "execute_result"
    },
    {
     "data": {
      "image/png": "[encoded data removed]",
      "text/plain": [
       "<Figure size 640x480 with 1 Axes>"
      ]
     },
     "metadata": {},
     "output_type": "display_data"
    }
   ],
   "source": [
    "y.drop(columns = 'Unnamed: 0').hist(bins = 20)"
   ]
  },
  {
   "cell_type": "code",
   "execution_count": 26,
   "id": "e3d45c95-1605-47d1-b414-46908551e818",
   "metadata": {},
   "outputs": [],
   "source": [
    "#Performing train-test split\n",
    "X_train, X_test, y_train, y_test = train_test_split(X, y, test_size=0.3, random_state = 320768)"
   ]
  },
  {
   "cell_type": "code",
   "execution_count": 27,
   "id": "0fa41b7d-1281-43f2-ad55-21e1dcf8a77e",
   "metadata": {},
   "outputs": [],
   "source": [
    "#Preparing possible values of parameters\n",
    "criteria = ['gini', 'entropy']\n",
    "max_depths = [3, 5, 7]\n",
    "min_samples_leafs = [1, 3, 7]\n",
    "min_samples_splits = [2, 5]\n",
    "max_features = [None, 'sqrt', 'log2']\n",
    "splitters = ['best', 'random']\n",
    "max_leaf_nodes = [None, 10, 20]\n",
    "results = []"
   ]
  },
  {
   "cell_type": "code",
   "execution_count": 28,
   "id": "93a01184-87d8-4c2a-82a1-61c9cd00182c",
   "metadata": {},
   "outputs": [],
   "source": [
    "#Iterating over predefined values of parameters. Calculating AUC values\n",
    "for criterion in criteria:\n",
    "    for max_depth in max_depths:\n",
    "        for min_samples_leaf in min_samples_leafs:\n",
    "            for min_samples_split in min_samples_splits:\n",
    "                for max_feature in max_features:\n",
    "                    for splitter in splitters:\n",
    "                        for max_leaf_node in max_leaf_nodes:\n",
    "                            Tree = tree.DecisionTreeClassifier(criterion=criterion, \n",
    "                                                       max_depth=max_depth, \n",
    "                                                       min_samples_leaf=min_samples_leaf,\n",
    "                                                       min_samples_split=min_samples_split,\n",
    "                                                       max_features=max_feature,\n",
    "                                                       splitter=splitter,\n",
    "                                                        max_leaf_nodes = max_leaf_node,\n",
    "                                                       random_state=320768)\n",
    "                            mean_auc = cross_val_score(Tree, X_train, y_train, cv = 10, scoring = 'roc_auc').mean()\n",
    "                            sd_auc = cross_val_score(Tree, X_train, y_train, cv = 10, scoring = 'roc_auc').std()\n",
    "                            results.append({\n",
    "                            'criterion': criterion,\n",
    "                            'max_depth': max_depth,\n",
    "                            'min_samples_leaf': min_samples_leaf,\n",
    "                            'min_samples_split': min_samples_split,\n",
    "                            'max_features': max_feature,\n",
    "                            'splitter': splitter,\n",
    "                            'max_leaf_nodes' : max_leaf_node,\n",
    "                            'AUC': mean_auc,\n",
    "                            'Std_auc': sd_auc\n",
    "                        })\n",
    "                            "
   ]
  },
  {
   "cell_type": "code",
   "execution_count": 29,
   "id": "2ecebbbf-10da-4f3b-bc2f-9662acc77d80",
   "metadata": {},
   "outputs": [
    {
     "name": "stdout",
     "output_type": "stream",
     "text": [
      "    criterion  max_depth  min_samples_leaf  min_samples_split max_features  \\\n",
      "361   entropy          3                 3                  2         None   \n",
      "360   entropy          3                 3                  2         None   \n",
      "380   entropy          3                 3                  5         None   \n",
      "379   entropy          3                 3                  5         None   \n",
      "378   entropy          3                 3                  5         None   \n",
      "..        ...        ...               ...                ...          ...   \n",
      "429   entropy          3                 7                  5         log2   \n",
      "87       gini          3                 7                  2         log2   \n",
      "411   entropy          3                 7                  2         log2   \n",
      "105      gini          3                 7                  5         log2   \n",
      "99       gini          3                 7                  5         sqrt   \n",
      "\n",
      "    splitter  max_leaf_nodes       AUC   Std_auc  \n",
      "361     best            10.0  0.944645  0.027852  \n",
      "360     best             NaN  0.944645  0.027852  \n",
      "380     best            20.0  0.944645  0.027852  \n",
      "379     best            10.0  0.944645  0.027852  \n",
      "378     best             NaN  0.944645  0.027852  \n",
      "..       ...             ...       ...       ...  \n",
      "429   random             NaN  0.754441  0.046374  \n",
      "87    random             NaN  0.754441  0.046374  \n",
      "411   random             NaN  0.754441  0.046374  \n",
      "105   random             NaN  0.754441  0.046374  \n",
      "99    random             NaN  0.754441  0.046374  \n",
      "\n",
      "[648 rows x 9 columns]\n"
     ]
    }
   ],
   "source": [
    "df_results = pd.DataFrame(results)\n",
    "df_results_sorted = df_results.sort_values(by='AUC', ascending=False)\n",
    "print(df_results_sorted)"
   ]
  },
  {
   "cell_type": "code",
   "execution_count": 30,
   "id": "69f92af6-67de-48b3-a365-a1867bec85fa",
   "metadata": {},
   "outputs": [
    {
     "name": "stdout",
     "output_type": "stream",
     "text": [
      "0.94 accuracy with a standard deviation of 0.03\n"
     ]
    }
   ],
   "source": [
    "#Choosing the best Tree for further evaluation\n",
    "Tree_best = tree.DecisionTreeClassifier(criterion = \"entropy\", min_samples_leaf = 3, max_depth = 3, max_leaf_nodes = 10, min_samples_split=2, max_features = None, splitter = 'best', random_state=320768)\n",
    "scores_best = cross_val_score(Tree_best, X_train, y_train, cv = 10, scoring = 'roc_auc')\n",
    "print(\"%0.2f accuracy with a standard deviation of %0.2f\" % (scores_best.mean(), scores_best.std()))"
   ]
  }
 ],
 "metadata": {
  "kernelspec": {
   "display_name": "base",
   "language": "python",
   "name": "python3"
  },
  "language_info": {
   "codemirror_mode": {
    "name": "ipython",
    "version": 3
   },
   "file_extension": ".py",
   "mimetype": "text/x-python",
   "name": "python",
   "nbconvert_exporter": "python",
   "pygments_lexer": "ipython3",
   "version": "3.12.4"
  }
 },
 "nbformat": 4,
 "nbformat_minor": 5
}
