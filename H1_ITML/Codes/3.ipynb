{
 "cells": [
  {
   "cell_type": "code",
   "execution_count": 1,
   "id": "039ae5db-04d0-4ba7-a8cf-94ec7bbeea45",
   "metadata": {},
   "outputs": [],
   "source": [
    "import pandas as pd\n",
    "import numpy as np\n",
    "import matplotlib.pyplot as plt\n",
    "from sklearn import tree\n",
    "from sklearn.metrics import roc_auc_score, confusion_matrix, roc_curve, roc_auc_score, accuracy_score, recall_score, precision_score, RocCurveDisplay\n",
    "from sklearn.tree import DecisionTreeClassifier\n",
    "from sklearn.model_selection import train_test_split, cross_val_score\n",
    "X = pd.read_csv(\"X.csv\")\n",
    "y = pd.read_csv(\"y.csv\")\n",
    "y = y.iloc[:, 1]\n",
    "missing = y.isnull()\n",
    "X = X[~missing]\n",
    "y = y[~missing]\n",
    "Tree_best = tree.DecisionTreeClassifier(criterion = \"entropy\", min_samples_leaf = 10, max_depth = 3, max_leaf_nodes = None, min_samples_split=2, random_state=320768)"
   ]
  },
  {
   "cell_type": "code",
   "execution_count": 3,
   "id": "811e0c19-6df0-4722-b39e-a56cb5f84d33",
   "metadata": {},
   "outputs": [
    {
     "name": "stdout",
     "output_type": "stream",
     "text": [
      "Training size: 5.0%\n",
      "Train AUC: 0.8810, Test AUC: 0.8241\n",
      "\n",
      "Training size: 10.0%\n",
      "Train AUC: 0.9435, Test AUC: 0.8015\n",
      "\n",
      "Training size: 25.0%\n",
      "Train AUC: 0.9533, Test AUC: 0.9353\n",
      "\n",
      "Training size: 50.0%\n",
      "Train AUC: 0.9660, Test AUC: 0.9375\n",
      "\n",
      "Training size: 75.0%\n",
      "Train AUC: 0.9715, Test AUC: 0.9039\n",
      "\n",
      "Training size: 90.0%\n",
      "Train AUC: 0.9552, Test AUC: 0.9069\n",
      "\n",
      "Training size: 95.0%\n",
      "Train AUC: 0.9549, Test AUC: 0.9244\n",
      "\n"
     ]
    }
   ],
   "source": [
    "sizes = [0.05, 0.1, 0.25, 0.5, 0.75, 0.9, 0.95]\n",
    "test_auc_scores = []\n",
    "train_auc_scores = []\n",
    "\n",
    "for size in sizes:\n",
    "    X_sample, _, y_sample, _ = train_test_split(X, y, train_size = size, random_state=320804)\n",
    "    X_sample_train, X_sample_test, y_sample_train, y_sample_test = train_test_split(X_sample, y_sample, test_size=0.3, random_state=320768)\n",
    "    Tree_best.fit(X_sample_train, y_sample_train)\n",
    "    train_scores = roc_auc_score(y_sample_train, Tree_best.predict_proba(X_sample_train)[:, 1])\n",
    "    train_auc_scores.append(train_scores)\n",
    "    test_scores = roc_auc_score(y_sample_test, Tree_best.predict_proba(X_sample_test)[:, 1])\n",
    "    print(f\"Training size: {size * 100}%\")\n",
    "    print(f\"Train AUC: {train_scores:.4f}, Test AUC: {test_scores:.4f}\\n\")"
   ]
  }
 ],
 "metadata": {
  "kernelspec": {
   "display_name": "base",
   "language": "python",
   "name": "python3"
  },
  "language_info": {
   "codemirror_mode": {
    "name": "ipython",
    "version": 3
   },
   "file_extension": ".py",
   "mimetype": "text/x-python",
   "name": "python",
   "nbconvert_exporter": "python",
   "pygments_lexer": "ipython3",
   "version": "3.12.4"
  }
 },
 "nbformat": 4,
 "nbformat_minor": 5
}
